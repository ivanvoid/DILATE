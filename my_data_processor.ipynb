{
 "cells": [
  {
   "cell_type": "code",
   "execution_count": 1,
   "metadata": {},
   "outputs": [
    {
     "name": "stdout",
     "output_type": "stream",
     "text": [
      "DATA:\n",
      "  NAMES_OF_BAD_FILES: ['23EF07CA2AD4829E5A3DC550DDF212BE4DF432357587117B8790BF98BDB04EF52277040A3F9FB30FFFB875701FFFF0FD_202102230745.xlsx', '490175DD47C1E53DE74F180C750AA30055974E0FEFDF45C5B52C8ADC028C5B7EEC0C441B7C1869130D1B194AD47E4EDD_202103181245.xlsx']\n",
      "  OVERLAP_LEN: 10\n",
      "  PATH: ../data/medical_dataset/2nd_version_data\n",
      "  PREDICT_MAGNITUDE: False\n",
      "  PROPOFOL_ID: 5\n",
      "  SOURCE_LEN: 20\n",
      "  TARGET_LEN: 20\n",
      "  TEST_PERCENT: 0.2\n",
      "MODEL:\n",
      "  ACTIVATION: gelu\n",
      "  DEC_IN: 11\n",
      "  DIM_OUT: 1\n",
      "  DROPOUT: 0.05\n",
      "  D_FF: 2048\n",
      "  D_LAYERS: 1\n",
      "  D_MODEL: 512\n",
      "  ENC_IN: 11\n",
      "  E_LAYERS: 2\n",
      "  FACTOR: 1\n",
      "  MOV_AVG: 11\n",
      "  N_HEADS: 8\n",
      "  POS_ENC_N: 2\n",
      "SYSTEM:\n",
      "  SEED: 2022\n",
      "TEST:\n",
      "  PREDICTIONS_TO_FILES: True\n",
      "  SAVE_PATH: results\n",
      "TRAIN:\n",
      "  BATCH: 512\n",
      "  CRITERION: MSE\n",
      "  DILATE_GAMMA: 0.0001\n",
      "  EPOCHS: 10\n",
      "  LR: 0.0001\n",
      "  USE_ALL_DATA: True\n",
      "Total number of files read: 628\n",
      "Number of correct dataframes: 605\n",
      "TRAIN FILES: 484\n",
      "TEST FILES: 121\n",
      " \n"
     ]
    }
   ],
   "source": [
    "import os, sys; sys.path.append('..')\n",
    "from share_src.config import read_config\n",
    "from share_src.data import make_datasets\n",
    "\n",
    "cfg = read_config()\n",
    "train_dataset, test_dataset = make_datasets(cfg)\n"
   ]
  },
  {
   "cell_type": "markdown",
   "metadata": {},
   "source": [
    "Next part copyed directly from main.py"
   ]
  },
  {
   "cell_type": "code",
   "execution_count": 2,
   "metadata": {},
   "outputs": [
    {
     "name": "stderr",
     "output_type": "stream",
     "text": [
      "/home/ivan/miniconda3/envs/rl-dev/lib/python3.9/site-packages/tslearn/bases/bases.py:15: UserWarning: h5py not installed, hdf5 features will not be supported.\n",
      "Install h5py to use hdf5 features: http://docs.h5py.org/\n",
      "  warn(h5py_msg)\n"
     ]
    },
    {
     "name": "stdout",
     "output_type": "stream",
     "text": [
      "cuda:0\n"
     ]
    }
   ],
   "source": [
    "import torch\n",
    "import numpy as np\n",
    "from tqdm.notebook import tqdm\n",
    "from data.synthetic_dataset import create_synthetic_dataset, SyntheticDataset\n",
    "from models.seq2seq import EncoderRNN, DecoderRNN, Net_GRU\n",
    "from loss.dilate_loss import DilateLoss\n",
    "from torch.utils.data import DataLoader\n",
    "import random\n",
    "from tslearn.metrics import dtw, dtw_path\n",
    "import matplotlib.pyplot as plt\n",
    "import warnings\n",
    "import warnings; warnings.simplefilter('ignore')\n",
    "\n",
    "device = torch.device(\"cuda:0\" if torch.cuda.is_available() else \"cpu\")\n",
    "# I set random seeds in data.py\n",
    "# random.seed(cfg.SYSTEM.SEED)\n",
    "print(device)"
   ]
  },
  {
   "cell_type": "code",
   "execution_count": 25,
   "metadata": {},
   "outputs": [],
   "source": [
    "alpha=0.5"
   ]
  },
  {
   "cell_type": "code",
   "execution_count": null,
   "metadata": {},
   "outputs": [],
   "source": [
    "# parameters\n",
    "# batch_size = 100\n",
    "# N = 500\n",
    "N_input = cfg.DATA.SOURCE_LEN\n",
    "N_output = cfg.DATA.TARGET_LEN  \n",
    "sigma = 0.01\n",
    "alpha=0.5\n",
    "gamma = cfg.TRAIN.DILATE_GAMMA\n",
    "\n",
    "def train_model(net,loss_type, learning_rate, epochs=1000, gamma = 0.001,\n",
    "                print_every=50,eval_every=50, verbose=1, Lambda=1, alpha=0.5):\n",
    "    \n",
    "    optimizer = torch.optim.Adam(net.parameters(),lr=learning_rate)\n",
    "    criterion_mse = torch.nn.MSELoss()\n",
    "    criterion_dilate = DilateLoss(alpha, gamma, device)\n",
    "    \n",
    "    losses = []\n",
    "    for epoch in tqdm(range(epochs)): \n",
    "        pbar = tqdm(enumerate(trainloader, 0), \n",
    "            total=len(trainloader), leave=False)\n",
    "        for i, data in pbar:\n",
    "            inputs, target, _ = data\n",
    "            inputs = torch.tensor(inputs, dtype=torch.float32).to(device)\n",
    "            target = torch.tensor(target, dtype=torch.float32).to(device)\n",
    "\n",
    "            # Remove positional data\n",
    "            inputs = inputs[:,:,:-2]\n",
    "            target = target[:,cfg.DATA.OVERLAP_LEN:,:-2]\n",
    "\n",
    "            batch_size, N_output = target.shape[0:2]                     \n",
    "\n",
    "            # forward + backward + optimize\n",
    "            outputs = net(inputs)\n",
    "            # loss_mse,loss_shape,loss_temporal = torch.tensor(0),torch.tensor(0),torch.tensor(0)\n",
    "            \n",
    "            # if (loss_type=='mse'):\n",
    "            #     loss_mse = criterion(target,outputs)\n",
    "            #     loss = loss_mse                   \n",
    " \n",
    "            if (loss_type=='dilate'):    \n",
    "                tgt5 = target[:,:,cfg.DATA.PROPOFOL_ID].unsqueeze(-1)\n",
    "                out5 = outputs[:,:,cfg.DATA.PROPOFOL_ID].unsqueeze(-1)\n",
    "                loss = criterion_dilate(tgt5, out5)\n",
    "                # loss, loss_shape, loss_temporal = dilate_loss(tgt5, out5,\n",
    "                # alpha, gamma, device)\n",
    "\n",
    "            optimizer.zero_grad()\n",
    "            loss.backward()\n",
    "            optimizer.step()\n",
    "            losses += [loss.item()]\n",
    "            pbar.set_description('loss: {:.4f}'.format(loss.item()))\n",
    "    \n",
    "    model = net\n",
    "    return model, losses\n",
    "    # if(verbose):\n",
    "    #     if (epoch % print_every == 0):\n",
    "    #         print('epoch ', epoch, ' loss ',loss.item(),' loss shape ',loss_shape.item(),' loss temporal ',loss_temporal.item())\n",
    "    #         eval_model(net,testloader, gamma,verbose=1)\n",
    "\n",
    "trainloader = DataLoader(train_dataset, \n",
    "    batch_size=cfg.TRAIN.BATCH, shuffle=True, drop_last=True)\n",
    "\n",
    "encoder = EncoderRNN(\n",
    "    input_size=cfg.MODEL.ENC_IN, \n",
    "    hidden_size=128, \n",
    "    num_grulstm_layers=1, \n",
    "    batch_size=cfg.TRAIN.BATCH).to(device)\n",
    "decoder = DecoderRNN(\n",
    "    input_size=cfg.MODEL.ENC_IN, \n",
    "    hidden_size=128, \n",
    "    num_grulstm_layers=1,\n",
    "    fc_units=16, \n",
    "    output_size=cfg.MODEL.ENC_IN).to(device)\n",
    "net_gru_dilate = Net_GRU(encoder,decoder, N_output, device).to(device)\n",
    "\n",
    "trained_model, losses = train_model(\n",
    "    net_gru_dilate,\n",
    "    loss_type='dilate',\n",
    "    learning_rate=cfg.TRAIN.LR,\n",
    "    epochs=cfg.TRAIN.EPOCHS, \n",
    "    gamma=gamma, \n",
    "    print_every=50, \n",
    "    eval_every=50,\n",
    "    verbose=1)\n"
   ]
  },
  {
   "cell_type": "code",
   "execution_count": null,
   "metadata": {},
   "outputs": [],
   "source": [
    "print(len(losses))\n",
    "plt.plot(losses)"
   ]
  },
  {
   "cell_type": "code",
   "execution_count": 38,
   "metadata": {},
   "outputs": [
    {
     "name": "stdout",
     "output_type": "stream",
     "text": [
      "Eval MSE    =  0.14261385932002427\n",
      "Eval DILATE =  1.8204563231963031\n"
     ]
    }
   ],
   "source": [
    "def eval_model(net, loader, alpha, gamma, device,verbose=1):   \n",
    "    criterion_mse = torch.nn.MSELoss()\n",
    "    criterion_dilate = DilateLoss(alpha, gamma, device)\n",
    "\n",
    "    test_metrics = {\n",
    "        'mse_loss':[],\n",
    "        'dilate_loss':[],\n",
    "    }\n",
    "    \n",
    "    collected_data = {\n",
    "        'source':[],\n",
    "        'target':[],\n",
    "        'output':[],\n",
    "        'seq_id':[],\n",
    "    }\n",
    "\n",
    "    for i, data in enumerate(loader, 0):\n",
    "        # get the inputs\n",
    "        inputs, target, seq_id = data\n",
    "        inputs = torch.tensor(inputs, dtype=torch.float32).to(device)\n",
    "        target = torch.tensor(target, dtype=torch.float32).to(device)\n",
    "        batch_size, N_output = target.shape[0:2]\n",
    "\n",
    "        # Remove positional data\n",
    "        inputs = inputs[:,:,:-2]\n",
    "        target = target[:,cfg.DATA.OVERLAP_LEN:,:-2]\n",
    "\n",
    "        outputs = net(inputs)\n",
    "        # MSE    \n",
    "        tgt5 = target[:,:,cfg.DATA.PROPOFOL_ID].unsqueeze(-1)\n",
    "        out5 = outputs[:,:,cfg.DATA.PROPOFOL_ID].unsqueeze(-1)\n",
    "        loss_mse = criterion_mse(tgt5, out5)\n",
    "        loss_dilate = criterion_dilate(tgt5, out5)\n",
    "         \n",
    "        # save statistics\n",
    "        test_metrics['mse_loss'].append(loss_mse.item())\n",
    "        test_metrics['dilate_loss'].append(loss_dilate.item())\n",
    "\n",
    "        # collect data \n",
    "        collected_data['source'] += [inputs.detach().cpu()]\n",
    "        collected_data['target'] += [tgt5.detach().cpu()]\n",
    "        collected_data['output'] += [out5.detach().cpu()]\n",
    "        collected_data['seq_id'] += [seq_id]\n",
    "\n",
    "    print('Eval MSE    = ', np.array(test_metrics['mse_loss']).mean())\n",
    "    print('Eval DILATE = ', np.array(test_metrics['dilate_loss']).mean())\n",
    "    return test_metrics, collected_data\n",
    "\n",
    "testloader = DataLoader(test_dataset, \n",
    "    batch_size=cfg.TRAIN.BATCH, shuffle=False, drop_last=True)\n",
    "\n",
    "test_metrics, collected_data = eval_model(trained_model, testloader, \n",
    "    alpha, gamma, device)"
   ]
  },
  {
   "cell_type": "code",
   "execution_count": 48,
   "metadata": {},
   "outputs": [
    {
     "data": {
      "text/plain": [
       "[<matplotlib.lines.Line2D at 0x7fc481d71040>]"
      ]
     },
     "execution_count": 48,
     "metadata": {},
     "output_type": "execute_result"
    },
    {
     "data": {
      "image/png": "[encoded data removed]",
      "text/plain": [
       "<Figure size 720x360 with 2 Axes>"
      ]
     },
     "metadata": {
      "needs_background": "light"
     },
     "output_type": "display_data"
    }
   ],
   "source": [
    "fig,ax = plt.subplots(1,2, figsize=(10,5))\n",
    "ax[0].plot(test_metrics['mse_loss'])\n",
    "ax[1].plot(test_metrics['dilate_loss'])"
   ]
  },
  {
   "cell_type": "code",
   "execution_count": 98,
   "metadata": {},
   "outputs": [],
   "source": [
    "seq_id = torch.cat(collected_data['seq_id'])\n",
    "# print(seq_id.shape)\n",
    "target = torch.cat(collected_data['target'])\n",
    "output = torch.cat(collected_data['output'])\n",
    "# print(target.shape, output.shape)\n",
    "\n",
    "criterion_mse = torch.nn.MSELoss()\n",
    "criterion_dilate = DilateLoss(\n",
    "    gamma=cfg.TRAIN.DILATE_GAMMA)\n",
    "\n",
    "dilate_losses = []\n",
    "mse_losses = []\n",
    "\n",
    "for u_id in torch.unique(seq_id):\n",
    "    cond = seq_id == u_id\n",
    "\n",
    "    curr_targets = target[cond]\n",
    "    curr_outputs = output[cond]\n",
    "\n",
    "    # target_signal = []\n",
    "    # output_signal = []\n",
    "    target_signal = curr_targets[0,:,0].tolist()\n",
    "    output_signal = curr_outputs[0,:,0].tolist()\n",
    "    for bs in range(1,curr_targets.shape[0]):\n",
    "        tgt_value = curr_targets[bs,0,0].item()\n",
    "        out_value = curr_outputs[bs,0,0].item()\n",
    "        # out_value = curr_outputs[bs].mean().item()\n",
    "\n",
    "        target_signal += [tgt_value]\n",
    "        output_signal += [out_value]\n",
    "   \n",
    "    output_signal = torch.tensor(output_signal).unsqueeze(-1).unsqueeze(0)\n",
    "    target_signal = torch.tensor(target_signal).unsqueeze(-1).unsqueeze(0)\n",
    "\n",
    "    mse_loss = criterion_mse(target_signal, output_signal).item()\n",
    "    dilate_loss = criterion_dilate(target_signal, output_signal).item()\n",
    "\n",
    "    dilate_losses += [dilate_loss]\n",
    "    mse_losses += [mse_loss]\n",
    "    # break\n",
    "\n"
   ]
  },
  {
   "cell_type": "code",
   "execution_count": 99,
   "metadata": {},
   "outputs": [
    {
     "name": "stdout",
     "output_type": "stream",
     "text": [
      "DILATE loss:  7.841023604409034\n",
      "MSE loss:  0.08177154319274764\n"
     ]
    }
   ],
   "source": [
    "print('DILATE loss: ',np.mean(dilate_losses))\n",
    "print('MSE loss: ',np.mean(mse_losses))"
   ]
  },
  {
   "cell_type": "code",
   "execution_count": 100,
   "metadata": {},
   "outputs": [
    {
     "data": {
      "text/plain": [
       "[<matplotlib.lines.Line2D at 0x7fc452ea3e20>]"
      ]
     },
     "execution_count": 100,
     "metadata": {},
     "output_type": "execute_result"
    },
    {
     "data": {
      "image/png": "[encoded data removed]",
      "text/plain": [
       "<Figure size 432x288 with 1 Axes>"
      ]
     },
     "metadata": {
      "needs_background": "light"
     },
     "output_type": "display_data"
    }
   ],
   "source": [
    "plt.plot(target_signal.squeeze())\n",
    "plt.plot(output_signal.squeeze())"
   ]
  },
  {
   "cell_type": "code",
   "execution_count": null,
   "metadata": {},
   "outputs": [],
   "source": []
  }
 ],
 "metadata": {
  "kernelspec": {
   "display_name": "Python 3.9.13 ('rl-dev')",
   "language": "python",
   "name": "python3"
  },
  "language_info": {
   "codemirror_mode": {
    "name": "ipython",
    "version": 3
   },
   "file_extension": ".py",
   "mimetype": "text/x-python",
   "name": "python",
   "nbconvert_exporter": "python",
   "pygments_lexer": "ipython3",
   "version": "3.9.13"
  },
  "orig_nbformat": 4,
  "vscode": {
   "interpreter": {
    "hash": "f4cd5286c77fa74a709fcc6c5da8d4519fc350b4e9f17441beca3c06a8c397ca"
   }
  }
 },
 "nbformat": 4,
 "nbformat_minor": 2
}
